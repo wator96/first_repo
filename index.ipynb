a = "cześć
print(a, "wojtek to koks")
